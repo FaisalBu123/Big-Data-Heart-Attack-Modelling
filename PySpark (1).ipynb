{
 "cells": [
  {
   "cell_type": "code",
   "execution_count": 26,
   "id": "f9084cde-6a66-4638-8c12-e63a0a6191bc",
   "metadata": {},
   "outputs": [],
   "source": [
    "# Set the PySpark environment variables\n",
    "import os\n",
    "\n",
    "os.environ['SPARK_HOME'] = r\"C:\\Users\\Faisal\\Downloads\\spark-4.0.0-bin-hadoop3\\spark-4.0.0-bin-hadoop3\"\n",
    "os.environ['PYSPARK_DRIVER_PYTHON'] = 'jupyter'\n",
    "os.environ['PYSPARK_DRIVER_PYTHON_OPTS'] = 'lab'\n",
    "os.environ['PYSPARK_PYTHON'] = 'python'\n",
    "\n",
    "# You set the exact location to where spark is downloaded on your laptop"
   ]
  },
  {
   "cell_type": "code",
   "execution_count": 27,
   "id": "d01db104-6aad-435f-b8c9-6861cffabfbb",
   "metadata": {},
   "outputs": [
    {
     "name": "stdout",
     "output_type": "stream",
     "text": [
      "Requirement already satisfied: pyspark in c:\\users\\faisal\\downloads\\anaconda\\lib\\site-packages (4.0.0)\n",
      "Requirement already satisfied: py4j==0.10.9.9 in c:\\users\\faisal\\downloads\\anaconda\\lib\\site-packages (from pyspark) (0.10.9.9)\n"
     ]
    }
   ],
   "source": [
    "!pip install pyspark"
   ]
  },
  {
   "cell_type": "code",
   "execution_count": 28,
   "id": "69cff745-3fdc-466e-9aa4-a9e0646cd6c2",
   "metadata": {},
   "outputs": [],
   "source": [
    "# Import PySpark\n",
    "from pyspark.sql import SparkSession\n",
    "from pyspark.sql.functions import col"
   ]
  },
  {
   "cell_type": "markdown",
   "id": "f54b7571-36ab-4cb1-af1a-1bcc24dfd016",
   "metadata": {},
   "source": [
    "# Create SparkSession and create dataframe"
   ]
  },
  {
   "cell_type": "code",
   "execution_count": 29,
   "id": "d07cb974-a381-489d-8fa7-616e225b8706",
   "metadata": {},
   "outputs": [],
   "source": [
    "# Create a SparkSession\n",
    "spark = SparkSession.builder \\\n",
    "    .appName(\"Heart-Disease-Analysis\") \\\n",
    "    .getOrCreate()\n",
    "\n",
    "# Creates a new spark session or uses a previous one if it was created"
   ]
  },
  {
   "cell_type": "code",
   "execution_count": 30,
   "id": "3d849f16-4de7-43ad-930a-b33a51a802da",
   "metadata": {},
   "outputs": [],
   "source": [
    "spark.conf.set(\"spark.sql.repl.eagerEval.enabled\", True)\n",
    "\n",
    "# It automatically shows DataFrame outputs (like the first few rows) without needing to call .show() manually."
   ]
  },
  {
   "cell_type": "code",
   "execution_count": 31,
   "id": "073113dc-b988-4fb8-b920-4ad2e59faae0",
   "metadata": {},
   "outputs": [],
   "source": [
    "df = spark.read.csv(\"heart_2022_no_nans.csv\", header=True, sep=\",\", inferSchema=True)\n",
    "\n",
    "# Treat first row as header and infer data types of columns"
   ]
  },
  {
   "cell_type": "markdown",
   "id": "c1506b86-b484-4076-b43b-270a0d8c1106",
   "metadata": {},
   "source": [
    "# Exploratory Data Analysis"
   ]
  },
  {
   "cell_type": "code",
   "execution_count": 32,
   "id": "2aa3742e-0515-44a0-8af6-08a1de6bfb20",
   "metadata": {},
   "outputs": [
    {
     "name": "stdout",
     "output_type": "stream",
     "text": [
      "root\n",
      " |-- State: string (nullable = true)\n",
      " |-- Sex: string (nullable = true)\n",
      " |-- GeneralHealth: string (nullable = true)\n",
      " |-- PhysicalHealthDays: double (nullable = true)\n",
      " |-- MentalHealthDays: double (nullable = true)\n",
      " |-- LastCheckupTime: string (nullable = true)\n",
      " |-- PhysicalActivities: string (nullable = true)\n",
      " |-- SleepHours: double (nullable = true)\n",
      " |-- RemovedTeeth: string (nullable = true)\n",
      " |-- HadHeartAttack: string (nullable = true)\n",
      " |-- HadAngina: string (nullable = true)\n",
      " |-- HadStroke: string (nullable = true)\n",
      " |-- HadAsthma: string (nullable = true)\n",
      " |-- HadSkinCancer: string (nullable = true)\n",
      " |-- HadCOPD: string (nullable = true)\n",
      " |-- HadDepressiveDisorder: string (nullable = true)\n",
      " |-- HadKidneyDisease: string (nullable = true)\n",
      " |-- HadArthritis: string (nullable = true)\n",
      " |-- HadDiabetes: string (nullable = true)\n",
      " |-- DeafOrHardOfHearing: string (nullable = true)\n",
      " |-- BlindOrVisionDifficulty: string (nullable = true)\n",
      " |-- DifficultyConcentrating: string (nullable = true)\n",
      " |-- DifficultyWalking: string (nullable = true)\n",
      " |-- DifficultyDressingBathing: string (nullable = true)\n",
      " |-- DifficultyErrands: string (nullable = true)\n",
      " |-- SmokerStatus: string (nullable = true)\n",
      " |-- ECigaretteUsage: string (nullable = true)\n",
      " |-- ChestScan: string (nullable = true)\n",
      " |-- RaceEthnicityCategory: string (nullable = true)\n",
      " |-- AgeCategory: string (nullable = true)\n",
      " |-- HeightInMeters: double (nullable = true)\n",
      " |-- WeightInKilograms: double (nullable = true)\n",
      " |-- BMI: double (nullable = true)\n",
      " |-- AlcoholDrinkers: string (nullable = true)\n",
      " |-- HIVTesting: string (nullable = true)\n",
      " |-- FluVaxLast12: string (nullable = true)\n",
      " |-- PneumoVaxEver: string (nullable = true)\n",
      " |-- TetanusLast10Tdap: string (nullable = true)\n",
      " |-- HighRiskLastYear: string (nullable = true)\n",
      " |-- CovidPos: string (nullable = true)\n",
      "\n"
     ]
    }
   ],
   "source": [
    "df.printSchema()\n"
   ]
  },
  {
   "cell_type": "code",
   "execution_count": 33,
   "id": "ecfdff53-9ff2-40f8-bed7-756cc016b6f4",
   "metadata": {},
   "outputs": [
    {
     "name": "stdout",
     "output_type": "stream",
     "text": [
      "+-------+------+-------------+------------------+----------------+--------------------------------------------------+------------------+----------+----------------------+--------------+---------+---------+---------+-------------+-------+---------------------+----------------+------------+-----------+-------------------+-----------------------+-----------------------+-----------------+-------------------------+-----------------+-------------+-----------------------------------------+---------+------------------------+---------------+--------------+-----------------+-----+---------------+----------+------------+-------------+---------------------------------------------------------+----------------+--------+\n",
      "|State  |Sex   |GeneralHealth|PhysicalHealthDays|MentalHealthDays|LastCheckupTime                                   |PhysicalActivities|SleepHours|RemovedTeeth          |HadHeartAttack|HadAngina|HadStroke|HadAsthma|HadSkinCancer|HadCOPD|HadDepressiveDisorder|HadKidneyDisease|HadArthritis|HadDiabetes|DeafOrHardOfHearing|BlindOrVisionDifficulty|DifficultyConcentrating|DifficultyWalking|DifficultyDressingBathing|DifficultyErrands|SmokerStatus |ECigaretteUsage                          |ChestScan|RaceEthnicityCategory   |AgeCategory    |HeightInMeters|WeightInKilograms|BMI  |AlcoholDrinkers|HIVTesting|FluVaxLast12|PneumoVaxEver|TetanusLast10Tdap                                        |HighRiskLastYear|CovidPos|\n",
      "+-------+------+-------------+------------------+----------------+--------------------------------------------------+------------------+----------+----------------------+--------------+---------+---------+---------+-------------+-------+---------------------+----------------+------------+-----------+-------------------+-----------------------+-----------------------+-----------------+-------------------------+-----------------+-------------+-----------------------------------------+---------+------------------------+---------------+--------------+-----------------+-----+---------------+----------+------------+-------------+---------------------------------------------------------+----------------+--------+\n",
      "|Alabama|Female|Very good    |4.0               |0.0             |Within past year (anytime less than 12 months ago)|Yes               |9.0       |None of them          |No            |No       |No       |No       |No           |No     |No                   |No              |Yes         |No         |No                 |No                     |No                     |No               |No                       |No               |Former smoker|Never used e-cigarettes in my entire life|No       |White only, Non-Hispanic|Age 65 to 69   |1.6           |71.67            |27.99|No             |No        |Yes         |Yes          |Yes, received Tdap                                       |No              |No      |\n",
      "|Alabama|Male  |Very good    |0.0               |0.0             |Within past year (anytime less than 12 months ago)|Yes               |6.0       |None of them          |No            |No       |No       |No       |No           |No     |No                   |No              |Yes         |Yes        |No                 |No                     |No                     |No               |No                       |No               |Former smoker|Never used e-cigarettes in my entire life|No       |White only, Non-Hispanic|Age 70 to 74   |1.78          |95.25            |30.13|No             |No        |Yes         |Yes          |Yes, received tetanus shot but not sure what type        |No              |No      |\n",
      "|Alabama|Male  |Very good    |0.0               |0.0             |Within past year (anytime less than 12 months ago)|No                |8.0       |6 or more, but not all|No            |No       |No       |No       |No           |No     |No                   |No              |Yes         |No         |No                 |Yes                    |No                     |Yes              |No                       |No               |Former smoker|Never used e-cigarettes in my entire life|Yes      |White only, Non-Hispanic|Age 75 to 79   |1.85          |108.86           |31.66|Yes            |No        |No          |Yes          |No, did not receive any tetanus shot in the past 10 years|No              |Yes     |\n",
      "|Alabama|Female|Fair         |5.0               |0.0             |Within past year (anytime less than 12 months ago)|Yes               |9.0       |None of them          |No            |No       |No       |No       |Yes          |No     |Yes                  |No              |Yes         |No         |No                 |No                     |No                     |Yes              |No                       |No               |Never smoked |Never used e-cigarettes in my entire life|No       |White only, Non-Hispanic|Age 80 or older|1.7           |90.72            |31.32|No             |No        |Yes         |Yes          |No, did not receive any tetanus shot in the past 10 years|No              |Yes     |\n",
      "|Alabama|Female|Good         |3.0               |15.0            |Within past year (anytime less than 12 months ago)|Yes               |5.0       |1 to 5                |No            |No       |No       |No       |No           |No     |No                   |No              |Yes         |No         |No                 |No                     |No                     |No               |No                       |No               |Never smoked |Never used e-cigarettes in my entire life|No       |White only, Non-Hispanic|Age 80 or older|1.55          |79.38            |33.07|No             |No        |Yes         |Yes          |No, did not receive any tetanus shot in the past 10 years|No              |No      |\n",
      "+-------+------+-------------+------------------+----------------+--------------------------------------------------+------------------+----------+----------------------+--------------+---------+---------+---------+-------------+-------+---------------------+----------------+------------+-----------+-------------------+-----------------------+-----------------------+-----------------+-------------------------+-----------------+-------------+-----------------------------------------+---------+------------------------+---------------+--------------+-----------------+-----+---------------+----------+------------+-------------+---------------------------------------------------------+----------------+--------+\n",
      "only showing top 5 rows\n"
     ]
    }
   ],
   "source": [
    "df.show(5,0)  \n",
    "\n",
    "# the 0 is so that no truncation happens"
   ]
  },
  {
   "cell_type": "code",
   "execution_count": 34,
   "id": "02157ea2-1343-4d45-83d9-185c52aaf708",
   "metadata": {},
   "outputs": [
    {
     "name": "stdout",
     "output_type": "stream",
     "text": [
      "Row count: 246022\n"
     ]
    }
   ],
   "source": [
    "print(f\"Row count: {df.count()}\")  \n"
   ]
  },
  {
   "cell_type": "markdown",
   "id": "a5342f1d-6a25-43d3-8cba-6b33df09c975",
   "metadata": {},
   "source": [
    "# Quarter of a million people in this data"
   ]
  },
  {
   "cell_type": "code",
   "execution_count": 35,
   "id": "1e1495b4-a28b-433a-9fa0-ddbc92b45c28",
   "metadata": {},
   "outputs": [
    {
     "name": "stdout",
     "output_type": "stream",
     "text": [
      "+--------------------------+------------------+\n",
      "|RaceEthnicityCategoryShort|HeartAttackPercent|\n",
      "+--------------------------+------------------+\n",
      "|               Multiracial|              6.09|\n",
      "|                White only|              5.77|\n",
      "|           Other race only|              4.84|\n",
      "|                Black only|               4.6|\n",
      "|                  Hispanic|              3.81|\n",
      "+--------------------------+------------------+\n",
      "\n"
     ]
    }
   ],
   "source": [
    "from pyspark.sql.functions import col, when, sum, count, round, split\n",
    "\n",
    "df = df.withColumn('RaceEthnicityCategoryShort', split(col('RaceEthnicityCategory'), ',').getItem(0))\n",
    "\n",
    "df.groupBy('RaceEthnicityCategoryShort').agg(\n",
    "    round(\n",
    "        (sum(when(col('HadHeartAttack') == 'Yes', 1).otherwise(0)) / count('*') * 100),\n",
    "        2\n",
    "    ).alias('HeartAttackPercent')\n",
    ").orderBy(col('HeartAttackPercent').desc()).show()\n",
    "\n",
    "# Clean the data for the rate ethnicity column first by removing all the unecessary data in the column \n",
    "# Assign 1 when heart attack otherwise 0 then sum it up and find %"
   ]
  },
  {
   "cell_type": "markdown",
   "id": "c936287b-ee79-4817-82c5-c834e05340a4",
   "metadata": {},
   "source": [
    "# Multiracial have highest % of heart attacks, Hispanic least"
   ]
  },
  {
   "cell_type": "code",
   "execution_count": 36,
   "id": "05f70440-cf87-4118-8a8e-938cb4f1c5a7",
   "metadata": {
    "scrolled": true
   },
   "outputs": [
    {
     "name": "stdout",
     "output_type": "stream",
     "text": [
      "\n",
      "Column: State\n",
      "+--------------+----------+\n",
      "|State         |percentage|\n",
      "+--------------+----------+\n",
      "|Washington    |6.1       |\n",
      "|Maryland      |3.73      |\n",
      "|Minnesota     |3.72      |\n",
      "|Ohio          |3.66      |\n",
      "|New York      |3.63      |\n",
      "|Texas         |3.01      |\n",
      "|Florida       |2.97      |\n",
      "|Kansas        |2.5       |\n",
      "|Wisconsin     |2.49      |\n",
      "|Maine         |2.44      |\n",
      "|Iowa          |2.31      |\n",
      "|Hawaii        |2.27      |\n",
      "|Virginia      |2.26      |\n",
      "|Indiana       |2.24      |\n",
      "|Massachusetts |2.22      |\n",
      "|Arizona       |2.22      |\n",
      "|South Carolina|2.22      |\n",
      "|Michigan      |2.18      |\n",
      "|Utah          |2.18      |\n",
      "|Colorado      |2.1       |\n",
      "+--------------+----------+\n",
      "only showing top 20 rows\n",
      "\n",
      "Column: Sex\n",
      "+------+----------+\n",
      "|Sex   |percentage|\n",
      "+------+----------+\n",
      "|Female|51.95     |\n",
      "|Male  |48.05     |\n",
      "+------+----------+\n",
      "\n",
      "\n",
      "Column: GeneralHealth\n",
      "+-------------+----------+\n",
      "|GeneralHealth|percentage|\n",
      "+-------------+----------+\n",
      "|Very good    |35.36     |\n",
      "|Good         |31.46     |\n",
      "|Excellent    |16.88     |\n",
      "|Fair         |12.46     |\n",
      "|Poor         |3.83      |\n",
      "+-------------+----------+\n",
      "\n",
      "\n",
      "Column: LastCheckupTime\n",
      "+-------------------------------------------------------+----------+\n",
      "|LastCheckupTime                                        |percentage|\n",
      "+-------------------------------------------------------+----------+\n",
      "|Within past year (anytime less than 12 months ago)     |80.54     |\n",
      "|Within past 2 years (1 year but less than 2 years ago) |9.44      |\n",
      "|Within past 5 years (2 years but less than 5 years ago)|5.59      |\n",
      "|5 or more years ago                                    |4.43      |\n",
      "+-------------------------------------------------------+----------+\n",
      "\n",
      "\n",
      "Column: PhysicalActivities\n",
      "+------------------+----------+\n",
      "|PhysicalActivities|percentage|\n",
      "+------------------+----------+\n",
      "|Yes               |77.76     |\n",
      "|No                |22.24     |\n",
      "+------------------+----------+\n",
      "\n",
      "\n",
      "Column: RemovedTeeth\n",
      "+----------------------+----------+\n",
      "|RemovedTeeth          |percentage|\n",
      "+----------------------+----------+\n",
      "|None of them          |53.49     |\n",
      "|1 to 5                |30.36     |\n",
      "|6 or more, but not all|10.55     |\n",
      "|All                   |5.6       |\n",
      "+----------------------+----------+\n",
      "\n",
      "\n",
      "Column: HadHeartAttack\n",
      "+--------------+----------+\n",
      "|HadHeartAttack|percentage|\n",
      "+--------------+----------+\n",
      "|No            |94.54     |\n",
      "|Yes           |5.46      |\n",
      "+--------------+----------+\n",
      "\n",
      "\n",
      "Column: HadAngina\n",
      "+---------+----------+\n",
      "|HadAngina|percentage|\n",
      "+---------+----------+\n",
      "|No       |93.92     |\n",
      "|Yes      |6.08      |\n",
      "+---------+----------+\n",
      "\n",
      "\n",
      "Column: HadStroke\n",
      "+---------+----------+\n",
      "|HadStroke|percentage|\n",
      "+---------+----------+\n",
      "|No       |95.89     |\n",
      "|Yes      |4.11      |\n",
      "+---------+----------+\n",
      "\n",
      "\n",
      "Column: HadAsthma\n",
      "+---------+----------+\n",
      "|HadAsthma|percentage|\n",
      "+---------+----------+\n",
      "|No       |85.15     |\n",
      "|Yes      |14.85     |\n",
      "+---------+----------+\n",
      "\n",
      "\n",
      "Column: HadSkinCancer\n",
      "+-------------+----------+\n",
      "|HadSkinCancer|percentage|\n",
      "+-------------+----------+\n",
      "|No           |91.46     |\n",
      "|Yes          |8.54      |\n",
      "+-------------+----------+\n",
      "\n",
      "\n",
      "Column: HadCOPD\n",
      "+-------+----------+\n",
      "|HadCOPD|percentage|\n",
      "+-------+----------+\n",
      "|No     |92.28     |\n",
      "|Yes    |7.72      |\n",
      "+-------+----------+\n",
      "\n",
      "\n",
      "Column: HadDepressiveDisorder\n",
      "+---------------------+----------+\n",
      "|HadDepressiveDisorder|percentage|\n",
      "+---------------------+----------+\n",
      "|No                   |79.42     |\n",
      "|Yes                  |20.58     |\n",
      "+---------------------+----------+\n",
      "\n",
      "\n",
      "Column: HadKidneyDisease\n",
      "+----------------+----------+\n",
      "|HadKidneyDisease|percentage|\n",
      "+----------------+----------+\n",
      "|No              |95.41     |\n",
      "|Yes             |4.59      |\n",
      "+----------------+----------+\n",
      "\n",
      "\n",
      "Column: HadArthritis\n",
      "+------------+----------+\n",
      "|HadArthritis|percentage|\n",
      "+------------+----------+\n",
      "|No          |65.5      |\n",
      "|Yes         |34.5      |\n",
      "+------------+----------+\n",
      "\n",
      "\n",
      "Column: HadDiabetes\n",
      "+---------------------------------------+----------+\n",
      "|HadDiabetes                            |percentage|\n",
      "+---------------------------------------+----------+\n",
      "|No                                     |83.26     |\n",
      "|Yes                                    |13.74     |\n",
      "|No, pre-diabetes or borderline diabetes|2.19      |\n",
      "|Yes, but only during pregnancy (female)|0.81      |\n",
      "+---------------------------------------+----------+\n",
      "\n",
      "\n",
      "Column: DeafOrHardOfHearing\n",
      "+-------------------+----------+\n",
      "|DeafOrHardOfHearing|percentage|\n",
      "+-------------------+----------+\n",
      "|No                 |91.45     |\n",
      "|Yes                |8.55      |\n",
      "+-------------------+----------+\n",
      "\n",
      "\n",
      "Column: BlindOrVisionDifficulty\n",
      "+-----------------------+----------+\n",
      "|BlindOrVisionDifficulty|percentage|\n",
      "+-----------------------+----------+\n",
      "|No                     |95.03     |\n",
      "|Yes                    |4.97      |\n",
      "+-----------------------+----------+\n",
      "\n",
      "\n",
      "Column: DifficultyConcentrating\n",
      "+-----------------------+----------+\n",
      "|DifficultyConcentrating|percentage|\n",
      "+-----------------------+----------+\n",
      "|No                     |89.34     |\n",
      "|Yes                    |10.66     |\n",
      "+-----------------------+----------+\n",
      "\n",
      "\n",
      "Column: DifficultyWalking\n",
      "+-----------------+----------+\n",
      "|DifficultyWalking|percentage|\n",
      "+-----------------+----------+\n",
      "|No               |85.34     |\n",
      "|Yes              |14.66     |\n",
      "+-----------------+----------+\n",
      "\n",
      "\n",
      "Column: DifficultyDressingBathing\n",
      "+-------------------------+----------+\n",
      "|DifficultyDressingBathing|percentage|\n",
      "+-------------------------+----------+\n",
      "|No                       |96.61     |\n",
      "|Yes                      |3.39      |\n",
      "+-------------------------+----------+\n",
      "\n",
      "\n",
      "Column: DifficultyErrands\n",
      "+-----------------+----------+\n",
      "|DifficultyErrands|percentage|\n",
      "+-----------------+----------+\n",
      "|No               |93.34     |\n",
      "|Yes              |6.66      |\n",
      "+-----------------+----------+\n",
      "\n",
      "\n",
      "Column: SmokerStatus\n",
      "+-------------------------------------+----------+\n",
      "|SmokerStatus                         |percentage|\n",
      "+-------------------------------------+----------+\n",
      "|Never smoked                         |60.05     |\n",
      "|Former smoker                        |27.85     |\n",
      "|Current smoker - now smokes every day|8.8       |\n",
      "|Current smoker - now smokes some days|3.29      |\n",
      "+-------------------------------------+----------+\n",
      "\n",
      "\n",
      "Column: ECigaretteUsage\n",
      "+-----------------------------------------+----------+\n",
      "|ECigaretteUsage                          |percentage|\n",
      "+-----------------------------------------+----------+\n",
      "|Never used e-cigarettes in my entire life|77.28     |\n",
      "|Not at all (right now)                   |17.59     |\n",
      "|Use them some days                       |2.71      |\n",
      "|Use them every day                       |2.42      |\n",
      "+-----------------------------------------+----------+\n",
      "\n",
      "\n",
      "Column: ChestScan\n",
      "+---------+----------+\n",
      "|ChestScan|percentage|\n",
      "+---------+----------+\n",
      "|No       |57.65     |\n",
      "|Yes      |42.35     |\n",
      "+---------+----------+\n",
      "\n",
      "\n",
      "Column: RaceEthnicityCategory\n",
      "+-----------------------------+----------+\n",
      "|RaceEthnicityCategory        |percentage|\n",
      "+-----------------------------+----------+\n",
      "|White only, Non-Hispanic     |75.74     |\n",
      "|Hispanic                     |9.17      |\n",
      "|Black only, Non-Hispanic     |7.86      |\n",
      "|Other race only, Non-Hispanic|4.96      |\n",
      "|Multiracial, Non-Hispanic    |2.27      |\n",
      "+-----------------------------+----------+\n",
      "\n",
      "\n",
      "Column: AgeCategory\n",
      "+---------------+----------+\n",
      "|AgeCategory    |percentage|\n",
      "+---------------+----------+\n",
      "|Age 65 to 69   |11.61     |\n",
      "|Age 60 to 64   |10.86     |\n",
      "|Age 70 to 74   |10.46     |\n",
      "|Age 55 to 59   |9.03      |\n",
      "|Age 50 to 54   |8.09      |\n",
      "|Age 75 to 79   |7.37      |\n",
      "|Age 80 or older|7.24      |\n",
      "|Age 40 to 44   |6.9       |\n",
      "|Age 45 to 49   |6.81      |\n",
      "|Age 35 to 39   |6.35      |\n",
      "|Age 30 to 34   |5.42      |\n",
      "|Age 18 to 24   |5.33      |\n",
      "|Age 25 to 29   |4.52      |\n",
      "+---------------+----------+\n",
      "\n",
      "\n",
      "Column: AlcoholDrinkers\n",
      "+---------------+----------+\n",
      "|AlcoholDrinkers|percentage|\n",
      "+---------------+----------+\n",
      "|Yes            |55.0      |\n",
      "|No             |45.0      |\n",
      "+---------------+----------+\n",
      "\n",
      "\n",
      "Column: HIVTesting\n",
      "+----------+----------+\n",
      "|HIVTesting|percentage|\n",
      "+----------+----------+\n",
      "|No        |65.65     |\n",
      "|Yes       |34.35     |\n",
      "+----------+----------+\n",
      "\n",
      "\n",
      "Column: FluVaxLast12\n",
      "+------------+----------+\n",
      "|FluVaxLast12|percentage|\n",
      "+------------+----------+\n",
      "|Yes         |53.33     |\n",
      "|No          |46.67     |\n",
      "+------------+----------+\n",
      "\n",
      "\n",
      "Column: PneumoVaxEver\n",
      "+-------------+----------+\n",
      "|PneumoVaxEver|percentage|\n",
      "+-------------+----------+\n",
      "|No           |59.4      |\n",
      "|Yes          |40.6      |\n",
      "+-------------+----------+\n",
      "\n",
      "\n",
      "Column: TetanusLast10Tdap\n",
      "+---------------------------------------------------------+----------+\n",
      "|TetanusLast10Tdap                                        |percentage|\n",
      "+---------------------------------------------------------+----------+\n",
      "|No, did not receive any tetanus shot in the past 10 years|33.23     |\n",
      "|Yes, received tetanus shot but not sure what type        |30.13     |\n",
      "|Yes, received Tdap                                       |28.57     |\n",
      "|Yes, received tetanus shot, but not Tdap                 |8.08      |\n",
      "+---------------------------------------------------------+----------+\n",
      "\n",
      "\n",
      "Column: HighRiskLastYear\n",
      "+----------------+----------+\n",
      "|HighRiskLastYear|percentage|\n",
      "+----------------+----------+\n",
      "|No              |95.7      |\n",
      "|Yes             |4.3       |\n",
      "+----------------+----------+\n",
      "\n",
      "\n",
      "Column: CovidPos\n",
      "+-------------------------------------------------------------+----------+\n",
      "|CovidPos                                                     |percentage|\n",
      "+-------------------------------------------------------------+----------+\n",
      "|No                                                           |68.0      |\n",
      "|Yes                                                          |28.58     |\n",
      "|Tested positive using home test without a health professional|3.41      |\n",
      "+-------------------------------------------------------------+----------+\n",
      "\n",
      "\n",
      "Column: RaceEthnicityCategoryShort\n",
      "+--------------------------+----------+\n",
      "|RaceEthnicityCategoryShort|percentage|\n",
      "+--------------------------+----------+\n",
      "|White only                |75.74     |\n",
      "|Hispanic                  |9.17      |\n",
      "|Black only                |7.86      |\n",
      "|Other race only           |4.96      |\n",
      "|Multiracial               |2.27      |\n",
      "+--------------------------+----------+\n",
      "\n"
     ]
    }
   ],
   "source": [
    "from pyspark.sql.types import StringType\n",
    "from pyspark.sql.functions import col, round\n",
    "\n",
    "total_rows = df.count()\n",
    "\n",
    "categorical_columns = [f.name for f in df.schema.fields if isinstance(f.dataType, StringType)]\n",
    "\n",
    "for col_name in categorical_columns:\n",
    "    print(f\"\\nColumn: {col_name}\")\n",
    "    df.groupBy(col_name) \\\n",
    "      .count() \\\n",
    "      .withColumn('percentage', round((col('count') / total_rows) * 100, 2)) \\\n",
    "      .orderBy('percentage', ascending=False) \\\n",
    "      .select(col_name, 'percentage') \\\n",
    "      .show(truncate=False)\n"
   ]
  },
  {
   "cell_type": "markdown",
   "id": "154e6574-9e9f-4aa0-8b57-bdf211e5d1d6",
   "metadata": {},
   "source": [
    "# Close, but more females than males in the dataset\n",
    "# 4.29% of dataset had a heart attack\n",
    "# Significant amount had arthritis 34.5%"
   ]
  },
  {
   "cell_type": "code",
   "execution_count": 37,
   "id": "06f0a403-1638-4dba-a291-8886cd9d3c0b",
   "metadata": {},
   "outputs": [
    {
     "name": "stdout",
     "output_type": "stream",
     "text": [
      "+-------+------------------+----------------+----------+--------------+-----------------+--------+\n",
      "|summary|PhysicalHealthDays|MentalHealthDays|SleepHours|HeightInMeters|WeightInKilograms|BMI     |\n",
      "+-------+------------------+----------------+----------+--------------+-----------------+--------+\n",
      "|count  |246022.0          |246022.0        |246022.0  |246022.0      |246022.0         |246022.0|\n",
      "|mean   |4.119             |4.167           |7.021     |1.705         |83.615           |28.668  |\n",
      "|stddev |8.406             |8.103           |1.441     |0.107         |21.323           |6.514   |\n",
      "|min    |0.0               |0.0             |1.0       |0.91          |28.12            |12.02   |\n",
      "|max    |30.0              |30.0            |24.0      |2.41          |292.57           |97.65   |\n",
      "+-------+------------------+----------------+----------+--------------+-----------------+--------+\n",
      "\n"
     ]
    }
   ],
   "source": [
    "from pyspark.sql.functions import round, col\n",
    "from pyspark.sql.types import NumericType\n",
    "\n",
    "#  numeric columns\n",
    "numeric_cols = [f.name for f in df.schema.fields if isinstance(f.dataType, NumericType)]\n",
    "\n",
    "\n",
    "# describe table for numeric columns\n",
    "desc_df = df.select(numeric_cols).describe()\n",
    "\n",
    "# numeric columns converted to float and rounded to 3 decimals\n",
    "for c in desc_df.columns[1:]:  \n",
    "    desc_df = desc_df.withColumn(c, round(col(c).cast(\"float\"), 3))\n",
    "\n",
    "desc_df.show(truncate=False)\n"
   ]
  },
  {
   "cell_type": "code",
   "execution_count": 38,
   "id": "980089ec-af2a-4716-a2fa-76c1e9dde994",
   "metadata": {},
   "outputs": [
    {
     "name": "stdout",
     "output_type": "stream",
     "text": [
      "+-----------------------------------------+------------------+\n",
      "|ECigaretteUsage                          |HeartAttackPercent|\n",
      "+-----------------------------------------+------------------+\n",
      "|Not at all (right now)                   |5.6260252766802985|\n",
      "|Never used e-cigarettes in my entire life|5.560464529159303 |\n",
      "|Use them some days                       |3.769900871132472 |\n",
      "|Use them every day                       |2.972292191435768 |\n",
      "+-----------------------------------------+------------------+\n",
      "\n"
     ]
    }
   ],
   "source": [
    "from pyspark.sql.functions import col, when, sum, count\n",
    "\n",
    "df.groupBy('ECigaretteUsage').agg(\n",
    "    (sum(when(col('HadHeartAttack') == 'Yes', 1).otherwise(0)) / count('*') * 100).alias('HeartAttackPercent')\n",
    ").orderBy(col('HeartAttackPercent').desc()).show(truncate=False)\n"
   ]
  },
  {
   "cell_type": "markdown",
   "id": "79d0a170-6b40-4b01-86ce-988adc8ddc1e",
   "metadata": {},
   "source": [
    "# Basically, this result shows correlation between E-cigarette users and heart attacks, but not necessarily causation"
   ]
  },
  {
   "cell_type": "code",
   "execution_count": 39,
   "id": "0aab0ce9-2a26-4fa2-80ab-ee1f0f0f2404",
   "metadata": {},
   "outputs": [
    {
     "name": "stdout",
     "output_type": "stream",
     "text": [
      "+----------------------+------------------+\n",
      "|RemovedTeeth          |HeartAttackPercent|\n",
      "+----------------------+------------------+\n",
      "|All                   |16.707795035563944|\n",
      "|6 or more, but not all|11.579961464354529|\n",
      "|1 to 5                |5.835185135605473 |\n",
      "|None of them          |2.8641558757371266|\n",
      "+----------------------+------------------+\n",
      "\n"
     ]
    }
   ],
   "source": [
    "from pyspark.sql.functions import col, when, sum, count\n",
    "\n",
    "df.groupBy('RemovedTeeth').agg(\n",
    "    (sum(when(col('HadHeartAttack') == 'Yes', 1).otherwise(0)) / count('*') * 100).alias('HeartAttackPercent')\n",
    ").orderBy(col('HeartAttackPercent').desc()).show(truncate=False)\n"
   ]
  },
  {
   "cell_type": "markdown",
   "id": "066056d1-a9d9-4d31-b699-d659bbd12e36",
   "metadata": {
    "jp-MarkdownHeadingCollapsed": true
   },
   "source": [
    "# Suprising there is a link between removing teeth and heart attack risk, higher risk with more teeth removed"
   ]
  },
  {
   "cell_type": "markdown",
   "id": "d64a0a10-0243-485a-98ac-b4809e3ed11e",
   "metadata": {},
   "source": [
    "# Logistic regression model"
   ]
  },
  {
   "cell_type": "code",
   "execution_count": 40,
   "id": "b153b8f0-e354-48fd-a979-c47a2a300d36",
   "metadata": {},
   "outputs": [
    {
     "name": "stdout",
     "output_type": "stream",
     "text": [
      "AUC: 0.8828234749439321\n"
     ]
    }
   ],
   "source": [
    "from pyspark.sql.functions import col, when\n",
    "from pyspark.ml.classification import LogisticRegression\n",
    "from pyspark.ml.evaluation import BinaryClassificationEvaluator\n",
    "from pyspark.ml.feature import StringIndexer, VectorAssembler\n",
    "from pyspark.ml import Pipeline\n",
    "\n",
    "# Convert target to numeric\n",
    "label_indexer = StringIndexer(inputCol=\"HadHeartAttack\", outputCol=\"label\")\n",
    "\n",
    "\n",
    "#get all columns except target\n",
    "features = [c for c in df.columns if c != \"HadHeartAttack\"]\n",
    "\n",
    "# Index categorical features\n",
    "indexers = [StringIndexer(inputCol=c, outputCol=c+\"_indexed\") for c in features if df.select(c).dtypes[0][1] == 'string']\n",
    "\n",
    "#combine into a feature vector\n",
    "assembler = VectorAssembler(\n",
    "    inputCols=[c+\"_indexed\" if df.select(c).dtypes[0][1] == 'string' else c for c in features],\n",
    "    outputCol=\"features\"\n",
    ")\n",
    "\n",
    "pipeline = Pipeline(stages=indexers + [label_indexer, assembler])\n",
    "pipeline_model = pipeline.fit(df)\n",
    "df_transformed = pipeline_model.transform(df)\n",
    "\n",
    "\n",
    "# Calculate class weights\n",
    "majority_class = df_transformed.filter(col(\"label\") == 0).count()\n",
    "minority_class = df_transformed.filter(col(\"label\") == 1).count()\n",
    "imbalance_ratio = majority_class / minority_class  # Weight for minority class\n",
    "\n",
    "# Create a new column for weights\n",
    "df_transformed = df_transformed.withColumn(\n",
    "    \"classWeight\",\n",
    "    when(col(\"label\") == 1, imbalance_ratio).otherwise(1.0)  # Higher weight for minority class\n",
    ")\n",
    "\n",
    "# Split the data\n",
    "train, test = df_transformed.randomSplit([0.8, 0.2], seed=42)\n",
    "\n",
    "# Train Logistic Regression with class weighting\n",
    "lr = LogisticRegression(featuresCol=\"features\", labelCol=\"label\", weightCol=\"classWeight\")\n",
    "lr_model = lr.fit(train)\n",
    "\n",
    "# Predict\n",
    "predictions = lr_model.transform(test)\n",
    "\n",
    "# Evaluate\n",
    "evaluator = BinaryClassificationEvaluator()\n",
    "auc = evaluator.evaluate(predictions)\n",
    "print(f\"AUC: {auc}\")\n"
   ]
  },
  {
   "cell_type": "code",
   "execution_count": 41,
   "id": "fcb77b05-95ce-44a1-960b-eae8337d534d",
   "metadata": {},
   "outputs": [
    {
     "name": "stdout",
     "output_type": "stream",
     "text": [
      "                               Feature  Coefficient\n",
      "9                    HadAngina_indexed     2.696328\n",
      "10                   HadStroke_indexed     1.105988\n",
      "26                   ChestScan_indexed     0.781622\n",
      "1                          Sex_indexed     0.762306\n",
      "35               PneumoVaxEver_indexed     0.310559\n",
      "18         DeafOrHardOfHearing_indexed     0.295473\n",
      "32             AlcoholDrinkers_indexed     0.289344\n",
      "15            HadKidneyDisease_indexed     0.269728\n",
      "21           DifficultyWalking_indexed     0.262479\n",
      "17                 HadDiabetes_indexed     0.257223\n",
      "8                 RemovedTeeth_indexed     0.242579\n",
      "16                HadArthritis_indexed     0.220762\n",
      "19     BlindOrVisionDifficulty_indexed     0.213105\n",
      "24                SmokerStatus_indexed     0.167446\n",
      "13                     HadCOPD_indexed     0.165425\n",
      "23           DifficultyErrands_indexed     0.160611\n",
      "12               HadSkinCancer_indexed     0.148483\n",
      "6           PhysicalActivities_indexed     0.130562\n",
      "2                GeneralHealth_indexed     0.116126\n",
      "37            HighRiskLastYear_indexed     0.097541\n",
      "34                FluVaxLast12_indexed     0.096350\n",
      "20     DifficultyConcentrating_indexed     0.072688\n",
      "30                   WeightInKilograms     0.003824\n",
      "3                   PhysicalHealthDays     0.001426\n",
      "0                        State_indexed    -0.000254\n",
      "4                     MentalHealthDays    -0.001170\n",
      "7                           SleepHours    -0.003547\n",
      "27       RaceEthnicityCategory_indexed    -0.004747\n",
      "39  RaceEthnicityCategoryShort_indexed    -0.004747\n",
      "11                   HadAsthma_indexed    -0.008412\n",
      "31                                 BMI    -0.014417\n",
      "25             ECigaretteUsage_indexed    -0.033980\n",
      "36           TetanusLast10Tdap_indexed    -0.052068\n",
      "28                 AgeCategory_indexed    -0.068255\n",
      "38                    CovidPos_indexed    -0.101222\n",
      "14       HadDepressiveDisorder_indexed    -0.110109\n",
      "33                  HIVTesting_indexed    -0.187864\n",
      "22   DifficultyDressingBathing_indexed    -0.189508\n",
      "5              LastCheckupTime_indexed    -0.222642\n",
      "29                      HeightInMeters    -1.151467\n"
     ]
    }
   ],
   "source": [
    "import pandas as pd\n",
    "\n",
    "feature_names = assembler.getInputCols()\n",
    "coefficients = lr_model.coefficients.toArray()\n",
    "\n",
    "feature_importance = pd.DataFrame({\n",
    "    \"Feature\": feature_names,\n",
    "    \"Coefficient\": coefficients\n",
    "}).sort_values(\"Coefficient\", ascending=False)\n",
    "\n",
    "print(feature_importance)\n"
   ]
  },
  {
   "cell_type": "code",
   "execution_count": 43,
   "id": "4d06580b-00c9-482c-9d2e-e7dd2a9a8fe3",
   "metadata": {},
   "outputs": [
    {
     "name": "stdout",
     "output_type": "stream",
     "text": [
      "Weighted Recall: 0.839512733515922\n"
     ]
    }
   ],
   "source": [
    "from pyspark.ml.evaluation import MulticlassClassificationEvaluator\n",
    "recall_evaluator = MulticlassClassificationEvaluator(labelCol=\"label\", predictionCol=\"prediction\", metricName=\"weightedRecall\")\n",
    "recall = recall_evaluator.evaluate(predictions)\n",
    "print(f\"Weighted Recall: {recall}\")\n"
   ]
  },
  {
   "cell_type": "code",
   "execution_count": 44,
   "id": "9bbe42d2-34bc-4773-9413-2d7a8aebce8b",
   "metadata": {},
   "outputs": [
    {
     "name": "stdout",
     "output_type": "stream",
     "text": [
      "Weighted Precision: 0.9399740926973306\n"
     ]
    }
   ],
   "source": [
    "from pyspark.ml.evaluation import MulticlassClassificationEvaluator\n",
    "precision_evaluator = MulticlassClassificationEvaluator(labelCol=\"label\", predictionCol=\"prediction\", metricName=\"weightedPrecision\")\n",
    "precision = precision_evaluator.evaluate(predictions)\n",
    "print(f\"Weighted Precision: {precision}\")\n"
   ]
  },
  {
   "cell_type": "markdown",
   "id": "ddb94130-3aa4-4d7f-a798-73e15621df72",
   "metadata": {},
   "source": [
    "# Great model scores\n",
    "# The variable with the highest positive coefficient is HadAngina_indexed (2.5457), which means having angina is the strongest predictor that increases the likelihood of a heart attack in the model.\n",
    "# The variable with highest negative coefficient is height (-0.6921), which means being taller is associated with a lower risk of heart attack in the dataset."
   ]
  },
  {
   "cell_type": "markdown",
   "id": "aca081c9-9107-4c5d-a249-b0301dfc779b",
   "metadata": {},
   "source": [
    "# SQL"
   ]
  },
  {
   "cell_type": "code",
   "execution_count": 18,
   "id": "f29a1d7d-0b26-4e0c-805a-24be6e3d1794",
   "metadata": {},
   "outputs": [
    {
     "name": "stdout",
     "output_type": "stream",
     "text": [
      "+----------+\n",
      "|total_rows|\n",
      "+----------+\n",
      "|    246022|\n",
      "+----------+\n",
      "\n"
     ]
    }
   ],
   "source": [
    "# Register DataFrame as SQL temporary view\n",
    "df.createOrReplaceTempView(\"heart_data\")\n",
    "spark.sql(\"SELECT COUNT(*) AS total_rows FROM heart_data\").show()\n"
   ]
  },
  {
   "cell_type": "code",
   "execution_count": 19,
   "id": "8fe60e43-14ac-49da-9ec6-2a84f221f924",
   "metadata": {},
   "outputs": [
    {
     "name": "stdout",
     "output_type": "stream",
     "text": [
      "+--------------+-------+\n",
      "|HadHeartAttack|avg_BMI|\n",
      "+--------------+-------+\n",
      "|            No|  28.62|\n",
      "|           Yes|  29.49|\n",
      "+--------------+-------+\n",
      "\n"
     ]
    }
   ],
   "source": [
    "spark.sql(\"\"\"\n",
    "    SELECT HadHeartAttack, ROUND(AVG(BMI), 2) AS avg_BMI\n",
    "    FROM heart_data\n",
    "    GROUP BY HadHeartAttack\n",
    "\"\"\").show()\n"
   ]
  },
  {
   "cell_type": "markdown",
   "id": "b9e37376-6713-442d-847b-80d2c5e7c4d4",
   "metadata": {},
   "source": [
    "# Higher average BMI for those who had a heart attack"
   ]
  },
  {
   "cell_type": "code",
   "execution_count": 20,
   "id": "5469b3de-4b35-4c9b-8722-50f51c59104a",
   "metadata": {},
   "outputs": [
    {
     "name": "stdout",
     "output_type": "stream",
     "text": [
      "+----------------------+--------------------+\n",
      "|SmokerStatus_Extracted|pct_had_heart_attack|\n",
      "+----------------------+--------------------+\n",
      "|  now smokes every day|                8.32|\n",
      "|         Former smoker|                8.19|\n",
      "|  now smokes some days|                6.83|\n",
      "|          Never smoked|                 3.7|\n",
      "+----------------------+--------------------+\n",
      "\n"
     ]
    }
   ],
   "source": [
    "spark.sql(\"\"\"\n",
    "    SELECT \n",
    "    TRIM(CASE \n",
    "        WHEN INSTR(SmokerStatus, '-') > 0 THEN element_at(split(SmokerStatus, '-'), 2)\n",
    "        ELSE SmokerStatus\n",
    "    END) AS SmokerStatus_Extracted,\n",
    "    ROUND(100 * SUM(CASE WHEN HadHeartAttack = 'Yes' THEN 1 ELSE 0 END) / COUNT(*), 2) AS pct_had_heart_attack\n",
    "FROM heart_data\n",
    "GROUP BY SmokerStatus_Extracted\n",
    "ORDER BY pct_had_heart_attack DESC\n",
    "\n",
    "\"\"\").show()\n",
    "\n",
    "# Clean data by removing unecessary information from the smoker status then get % of heart attack for each category"
   ]
  },
  {
   "cell_type": "markdown",
   "id": "d0a05031-2097-4e93-b50e-57ae29672f56",
   "metadata": {},
   "source": [
    "# Every day smokers highest % of heart attack. Unfortunately even those who quit smoking have almost a similar % of heart attacks to every day smokers, and higher % than those who smoke occasionally."
   ]
  }
 ],
 "metadata": {
  "kernelspec": {
   "display_name": "Python 3 (ipykernel)",
   "language": "python",
   "name": "python3"
  },
  "language_info": {
   "codemirror_mode": {
    "name": "ipython",
    "version": 3
   },
   "file_extension": ".py",
   "mimetype": "text/x-python",
   "name": "python",
   "nbconvert_exporter": "python",
   "pygments_lexer": "ipython3",
   "version": "3.11.7"
  }
 },
 "nbformat": 4,
 "nbformat_minor": 5
}
